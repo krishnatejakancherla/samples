{
 "cells": [
  {
   "cell_type": "code",
   "execution_count": 1,
   "metadata": {},
   "outputs": [],
   "source": [
    "import pandas as pd\n",
    "import numpy as np\n",
    "import sys\n",
    "import csv\n",
    "import itertools\n",
    "import matplotlib.pyplot as plt\n",
    "\n",
    "\n",
    "import sklearn\n",
    "from sklearn import preprocessing\n",
    "from sklearn.preprocessing import StandardScaler\n",
    "from sklearn.model_selection import train_test_split \n",
    "from sklearn.svm import SVC, LinearSVC\n",
    "from sklearn.ensemble import RandomForestClassifier\n",
    "from sklearn.metrics import accuracy_score, precision_score, confusion_matrix\n",
    "\n"
   ]
  },
  {
   "cell_type": "code",
   "execution_count": 2,
   "metadata": {},
   "outputs": [
    {
     "data": {
      "text/html": [
       "<div>\n",
       "<style scoped>\n",
       "    .dataframe tbody tr th:only-of-type {\n",
       "        vertical-align: middle;\n",
       "    }\n",
       "\n",
       "    .dataframe tbody tr th {\n",
       "        vertical-align: top;\n",
       "    }\n",
       "\n",
       "    .dataframe thead th {\n",
       "        text-align: right;\n",
       "    }\n",
       "</style>\n",
       "<table border=\"1\" class=\"dataframe\">\n",
       "  <thead>\n",
       "    <tr style=\"text-align: right;\">\n",
       "      <th></th>\n",
       "      <th>isPromotion</th>\n",
       "      <th>num_exp</th>\n",
       "      <th>sum_exp</th>\n",
       "      <th>avg_exp</th>\n",
       "      <th>Promotions</th>\n",
       "      <th>age</th>\n",
       "      <th>time_education</th>\n",
       "      <th>count_education</th>\n",
       "      <th>category</th>\n",
       "    </tr>\n",
       "  </thead>\n",
       "  <tbody>\n",
       "    <tr>\n",
       "      <th>0</th>\n",
       "      <td>1</td>\n",
       "      <td>4.0</td>\n",
       "      <td>44.0</td>\n",
       "      <td>11.000000</td>\n",
       "      <td>1.0</td>\n",
       "      <td>25.666667</td>\n",
       "      <td>110.0</td>\n",
       "      <td>3.0</td>\n",
       "      <td>2.0</td>\n",
       "    </tr>\n",
       "    <tr>\n",
       "      <th>1</th>\n",
       "      <td>0</td>\n",
       "      <td>3.0</td>\n",
       "      <td>20.0</td>\n",
       "      <td>6.666667</td>\n",
       "      <td>0.0</td>\n",
       "      <td>23.666667</td>\n",
       "      <td>110.0</td>\n",
       "      <td>3.0</td>\n",
       "      <td>2.0</td>\n",
       "    </tr>\n",
       "    <tr>\n",
       "      <th>2</th>\n",
       "      <td>0</td>\n",
       "      <td>2.0</td>\n",
       "      <td>7.0</td>\n",
       "      <td>3.500000</td>\n",
       "      <td>0.0</td>\n",
       "      <td>22.583333</td>\n",
       "      <td>110.0</td>\n",
       "      <td>3.0</td>\n",
       "      <td>1.0</td>\n",
       "    </tr>\n",
       "    <tr>\n",
       "      <th>3</th>\n",
       "      <td>0</td>\n",
       "      <td>1.0</td>\n",
       "      <td>3.0</td>\n",
       "      <td>3.000000</td>\n",
       "      <td>0.0</td>\n",
       "      <td>22.250000</td>\n",
       "      <td>110.0</td>\n",
       "      <td>3.0</td>\n",
       "      <td>1.0</td>\n",
       "    </tr>\n",
       "    <tr>\n",
       "      <th>4</th>\n",
       "      <td>0</td>\n",
       "      <td>8.0</td>\n",
       "      <td>210.0</td>\n",
       "      <td>26.250000</td>\n",
       "      <td>2.0</td>\n",
       "      <td>39.500000</td>\n",
       "      <td>170.0</td>\n",
       "      <td>6.0</td>\n",
       "      <td>1.0</td>\n",
       "    </tr>\n",
       "  </tbody>\n",
       "</table>\n",
       "</div>"
      ],
      "text/plain": [
       "   isPromotion  num_exp  sum_exp    avg_exp  Promotions        age  \\\n",
       "0            1      4.0     44.0  11.000000         1.0  25.666667   \n",
       "1            0      3.0     20.0   6.666667         0.0  23.666667   \n",
       "2            0      2.0      7.0   3.500000         0.0  22.583333   \n",
       "3            0      1.0      3.0   3.000000         0.0  22.250000   \n",
       "4            0      8.0    210.0  26.250000         2.0  39.500000   \n",
       "\n",
       "   time_education  count_education  category  \n",
       "0           110.0              3.0       2.0  \n",
       "1           110.0              3.0       2.0  \n",
       "2           110.0              3.0       1.0  \n",
       "3           110.0              3.0       1.0  \n",
       "4           170.0              6.0       1.0  "
      ]
     },
     "execution_count": 2,
     "metadata": {},
     "output_type": "execute_result"
    }
   ],
   "source": [
    "# file containing clean data about employees\n",
    "file = \"./clean_data/employee_categorised.csv\"\n",
    "\n",
    "# import the .csv file into a pandas dataframe\n",
    "data = pd.read_csv(file)\n",
    "data.head()"
   ]
  },
  {
   "cell_type": "markdown",
   "metadata": {},
   "source": [
    "#### Round off to two decimal places"
   ]
  },
  {
   "cell_type": "code",
   "execution_count": 3,
   "metadata": {},
   "outputs": [],
   "source": [
    "data['avg_exp'] = round(data['avg_exp'], 2)\n",
    "data['age'] = round(data['age'], 2)\n",
    "data = data.astype(int)\n",
    "# data.head()"
   ]
  },
  {
   "cell_type": "markdown",
   "metadata": {},
   "source": [
    "#### Check distribution of categories "
   ]
  },
  {
   "cell_type": "code",
   "execution_count": 4,
   "metadata": {},
   "outputs": [
    {
     "data": {
      "text/plain": [
       "Text(0.5, 1.0, 'Distribution of categories')"
      ]
     },
     "execution_count": 4,
     "metadata": {},
     "output_type": "execute_result"
    },
    {
     "data": {
      "image/png": "[encoded data removed]",
      "text/plain": [
       "<Figure size 432x288 with 1 Axes>"
      ]
     },
     "metadata": {
      "needs_background": "light"
     },
     "output_type": "display_data"
    }
   ],
   "source": [
    "fig, axs = plt.subplots(1)\n",
    "axs.hist(data['category'], bins=3)\n",
    "axs.set_title(\"Distribution of categories\")"
   ]
  },
  {
   "cell_type": "markdown",
   "metadata": {},
   "source": [
    "#### check distribution of number of experience"
   ]
  },
  {
   "cell_type": "code",
   "execution_count": 5,
   "metadata": {},
   "outputs": [
    {
     "data": {
      "text/plain": [
       "Text(0.5, 1.0, 'Distribution - average experiences')"
      ]
     },
     "execution_count": 5,
     "metadata": {},
     "output_type": "execute_result"
    },
    {
     "data": {
      "image/png": "[encoded data removed]",
      "text/plain": [
       "<Figure size 432x288 with 1 Axes>"
      ]
     },
     "metadata": {
      "needs_background": "light"
     },
     "output_type": "display_data"
    }
   ],
   "source": [
    "# plt.figure(figsize=(8, 8), dpi=80)\n",
    "# plt.scatter(data['num_exp'],data['inRole_time']) #retain\n",
    "fig, axs = plt.subplots(1)\n",
    "axs.hist(data['avg_exp'], bins=3)\n",
    "axs.set_title(\"Distribution - average experiences\")\n"
   ]
  },
  {
   "cell_type": "code",
   "execution_count": 6,
   "metadata": {},
   "outputs": [
    {
     "data": {
      "image/png": "[encoded data removed]",
      "text/plain": [
       "<Figure size 720x720 with 9 Axes>"
      ]
     },
     "metadata": {
      "needs_background": "light"
     },
     "output_type": "display_data"
    }
   ],
   "source": [
    "hist = data.hist(bins=3,figsize=(10,10))"
   ]
  },
  {
   "cell_type": "markdown",
   "metadata": {},
   "source": [
    "#### drop infinity and null values"
   ]
  },
  {
   "cell_type": "code",
   "execution_count": 7,
   "metadata": {},
   "outputs": [
    {
     "name": "stdout",
     "output_type": "stream",
     "text": [
      "<class 'pandas.core.frame.DataFrame'>\n",
      "Int64Index: 14696 entries, 0 to 14695\n",
      "Data columns (total 9 columns):\n",
      "isPromotion        14696 non-null int64\n",
      "num_exp            14696 non-null int64\n",
      "sum_exp            14696 non-null int64\n",
      "avg_exp            14696 non-null int64\n",
      "Promotions         14696 non-null int64\n",
      "age                14696 non-null int64\n",
      "time_education     14696 non-null int64\n",
      "count_education    14696 non-null int64\n",
      "category           14696 non-null int64\n",
      "dtypes: int64(9)\n",
      "memory usage: 1.1 MB\n"
     ]
    }
   ],
   "source": [
    "data.replace([np.inf, -np.inf], np.nan,inplace=True)\n",
    "data.dropna(inplace=True)\n",
    "data.info()"
   ]
  },
  {
   "cell_type": "markdown",
   "metadata": {},
   "source": [
    "#### Correlation"
   ]
  },
  {
   "cell_type": "code",
   "execution_count": 8,
   "metadata": {},
   "outputs": [
    {
     "data": {
      "text/html": [
       "<div>\n",
       "<style scoped>\n",
       "    .dataframe tbody tr th:only-of-type {\n",
       "        vertical-align: middle;\n",
       "    }\n",
       "\n",
       "    .dataframe tbody tr th {\n",
       "        vertical-align: top;\n",
       "    }\n",
       "\n",
       "    .dataframe thead th {\n",
       "        text-align: right;\n",
       "    }\n",
       "</style>\n",
       "<table border=\"1\" class=\"dataframe\">\n",
       "  <thead>\n",
       "    <tr style=\"text-align: right;\">\n",
       "      <th></th>\n",
       "      <th>isPromotion</th>\n",
       "      <th>num_exp</th>\n",
       "      <th>sum_exp</th>\n",
       "      <th>avg_exp</th>\n",
       "      <th>Promotions</th>\n",
       "      <th>age</th>\n",
       "      <th>time_education</th>\n",
       "      <th>count_education</th>\n",
       "      <th>category</th>\n",
       "    </tr>\n",
       "  </thead>\n",
       "  <tbody>\n",
       "    <tr>\n",
       "      <th>isPromotion</th>\n",
       "      <td>1.000000</td>\n",
       "      <td>0.087052</td>\n",
       "      <td>0.111773</td>\n",
       "      <td>0.083666</td>\n",
       "      <td>0.386727</td>\n",
       "      <td>0.111309</td>\n",
       "      <td>0.005055</td>\n",
       "      <td>-0.016683</td>\n",
       "      <td>0.332429</td>\n",
       "    </tr>\n",
       "    <tr>\n",
       "      <th>num_exp</th>\n",
       "      <td>0.087052</td>\n",
       "      <td>1.000000</td>\n",
       "      <td>0.701349</td>\n",
       "      <td>0.070075</td>\n",
       "      <td>0.492973</td>\n",
       "      <td>0.699187</td>\n",
       "      <td>0.161474</td>\n",
       "      <td>0.311666</td>\n",
       "      <td>0.062036</td>\n",
       "    </tr>\n",
       "    <tr>\n",
       "      <th>sum_exp</th>\n",
       "      <td>0.111773</td>\n",
       "      <td>0.701349</td>\n",
       "      <td>1.000000</td>\n",
       "      <td>0.622007</td>\n",
       "      <td>0.499255</td>\n",
       "      <td>0.999336</td>\n",
       "      <td>0.049911</td>\n",
       "      <td>0.105826</td>\n",
       "      <td>0.334723</td>\n",
       "    </tr>\n",
       "    <tr>\n",
       "      <th>avg_exp</th>\n",
       "      <td>0.083666</td>\n",
       "      <td>0.070075</td>\n",
       "      <td>0.622007</td>\n",
       "      <td>1.000000</td>\n",
       "      <td>0.163021</td>\n",
       "      <td>0.622507</td>\n",
       "      <td>-0.067423</td>\n",
       "      <td>-0.127712</td>\n",
       "      <td>0.575015</td>\n",
       "    </tr>\n",
       "    <tr>\n",
       "      <th>Promotions</th>\n",
       "      <td>0.386727</td>\n",
       "      <td>0.492973</td>\n",
       "      <td>0.499255</td>\n",
       "      <td>0.163021</td>\n",
       "      <td>1.000000</td>\n",
       "      <td>0.498669</td>\n",
       "      <td>0.075817</td>\n",
       "      <td>0.123039</td>\n",
       "      <td>0.190883</td>\n",
       "    </tr>\n",
       "    <tr>\n",
       "      <th>age</th>\n",
       "      <td>0.111309</td>\n",
       "      <td>0.699187</td>\n",
       "      <td>0.999336</td>\n",
       "      <td>0.622507</td>\n",
       "      <td>0.498669</td>\n",
       "      <td>1.000000</td>\n",
       "      <td>0.049554</td>\n",
       "      <td>0.105745</td>\n",
       "      <td>0.334673</td>\n",
       "    </tr>\n",
       "    <tr>\n",
       "      <th>time_education</th>\n",
       "      <td>0.005055</td>\n",
       "      <td>0.161474</td>\n",
       "      <td>0.049911</td>\n",
       "      <td>-0.067423</td>\n",
       "      <td>0.075817</td>\n",
       "      <td>0.049554</td>\n",
       "      <td>1.000000</td>\n",
       "      <td>0.555142</td>\n",
       "      <td>-0.036592</td>\n",
       "    </tr>\n",
       "    <tr>\n",
       "      <th>count_education</th>\n",
       "      <td>-0.016683</td>\n",
       "      <td>0.311666</td>\n",
       "      <td>0.105826</td>\n",
       "      <td>-0.127712</td>\n",
       "      <td>0.123039</td>\n",
       "      <td>0.105745</td>\n",
       "      <td>0.555142</td>\n",
       "      <td>1.000000</td>\n",
       "      <td>-0.090385</td>\n",
       "    </tr>\n",
       "    <tr>\n",
       "      <th>category</th>\n",
       "      <td>0.332429</td>\n",
       "      <td>0.062036</td>\n",
       "      <td>0.334723</td>\n",
       "      <td>0.575015</td>\n",
       "      <td>0.190883</td>\n",
       "      <td>0.334673</td>\n",
       "      <td>-0.036592</td>\n",
       "      <td>-0.090385</td>\n",
       "      <td>1.000000</td>\n",
       "    </tr>\n",
       "  </tbody>\n",
       "</table>\n",
       "</div>"
      ],
      "text/plain": [
       "                 isPromotion   num_exp   sum_exp   avg_exp  Promotions  \\\n",
       "isPromotion         1.000000  0.087052  0.111773  0.083666    0.386727   \n",
       "num_exp             0.087052  1.000000  0.701349  0.070075    0.492973   \n",
       "sum_exp             0.111773  0.701349  1.000000  0.622007    0.499255   \n",
       "avg_exp             0.083666  0.070075  0.622007  1.000000    0.163021   \n",
       "Promotions          0.386727  0.492973  0.499255  0.163021    1.000000   \n",
       "age                 0.111309  0.699187  0.999336  0.622507    0.498669   \n",
       "time_education      0.005055  0.161474  0.049911 -0.067423    0.075817   \n",
       "count_education    -0.016683  0.311666  0.105826 -0.127712    0.123039   \n",
       "category            0.332429  0.062036  0.334723  0.575015    0.190883   \n",
       "\n",
       "                      age  time_education  count_education  category  \n",
       "isPromotion      0.111309        0.005055        -0.016683  0.332429  \n",
       "num_exp          0.699187        0.161474         0.311666  0.062036  \n",
       "sum_exp          0.999336        0.049911         0.105826  0.334723  \n",
       "avg_exp          0.622507       -0.067423        -0.127712  0.575015  \n",
       "Promotions       0.498669        0.075817         0.123039  0.190883  \n",
       "age              1.000000        0.049554         0.105745  0.334673  \n",
       "time_education   0.049554        1.000000         0.555142 -0.036592  \n",
       "count_education  0.105745        0.555142         1.000000 -0.090385  \n",
       "category         0.334673       -0.036592        -0.090385  1.000000  "
      ]
     },
     "execution_count": 8,
     "metadata": {},
     "output_type": "execute_result"
    },
    {
     "data": {
      "image/png": "[encoded data removed]",
      "text/plain": [
       "<Figure size 432x288 with 2 Axes>"
      ]
     },
     "metadata": {
      "needs_background": "light"
     },
     "output_type": "display_data"
    }
   ],
   "source": [
    "import seaborn as sns\n",
    "corr = data.corr()\n",
    "corr = (corr)\n",
    "sns.heatmap(corr, \n",
    "            xticklabels=corr.columns.values,\n",
    "            yticklabels=corr.columns.values)\n",
    "\n",
    "corr\n"
   ]
  },
  {
   "cell_type": "markdown",
   "metadata": {},
   "source": [
    "#### standardise data as features are not the same range"
   ]
  },
  {
   "cell_type": "code",
   "execution_count": 9,
   "metadata": {},
   "outputs": [
    {
     "data": {
      "text/html": [
       "<div>\n",
       "<style scoped>\n",
       "    .dataframe tbody tr th:only-of-type {\n",
       "        vertical-align: middle;\n",
       "    }\n",
       "\n",
       "    .dataframe tbody tr th {\n",
       "        vertical-align: top;\n",
       "    }\n",
       "\n",
       "    .dataframe thead th {\n",
       "        text-align: right;\n",
       "    }\n",
       "</style>\n",
       "<table border=\"1\" class=\"dataframe\">\n",
       "  <thead>\n",
       "    <tr style=\"text-align: right;\">\n",
       "      <th></th>\n",
       "      <th>0</th>\n",
       "      <th>1</th>\n",
       "      <th>2</th>\n",
       "      <th>3</th>\n",
       "      <th>4</th>\n",
       "      <th>5</th>\n",
       "      <th>6</th>\n",
       "    </tr>\n",
       "  </thead>\n",
       "  <tbody>\n",
       "    <tr>\n",
       "      <th>0</th>\n",
       "      <td>-0.132810</td>\n",
       "      <td>-0.339903</td>\n",
       "      <td>-0.342518</td>\n",
       "      <td>0.216533</td>\n",
       "      <td>-0.371237</td>\n",
       "      <td>2.857938</td>\n",
       "      <td>-0.199879</td>\n",
       "    </tr>\n",
       "    <tr>\n",
       "      <th>1</th>\n",
       "      <td>-0.400984</td>\n",
       "      <td>-0.590271</td>\n",
       "      <td>-0.697105</td>\n",
       "      <td>-0.485933</td>\n",
       "      <td>-0.621925</td>\n",
       "      <td>-0.349903</td>\n",
       "      <td>-0.199879</td>\n",
       "    </tr>\n",
       "    <tr>\n",
       "      <th>2</th>\n",
       "      <td>-0.669158</td>\n",
       "      <td>-0.725887</td>\n",
       "      <td>-0.909858</td>\n",
       "      <td>-0.485933</td>\n",
       "      <td>-0.747268</td>\n",
       "      <td>-0.349903</td>\n",
       "      <td>-0.199879</td>\n",
       "    </tr>\n",
       "    <tr>\n",
       "      <th>3</th>\n",
       "      <td>-0.937332</td>\n",
       "      <td>-0.767615</td>\n",
       "      <td>-0.909858</td>\n",
       "      <td>-0.485933</td>\n",
       "      <td>-0.747268</td>\n",
       "      <td>-0.349903</td>\n",
       "      <td>-0.199879</td>\n",
       "    </tr>\n",
       "    <tr>\n",
       "      <th>4</th>\n",
       "      <td>0.939887</td>\n",
       "      <td>1.391809</td>\n",
       "      <td>0.721243</td>\n",
       "      <td>0.918999</td>\n",
       "      <td>1.383573</td>\n",
       "      <td>-0.349903</td>\n",
       "      <td>1.013933</td>\n",
       "    </tr>\n",
       "  </tbody>\n",
       "</table>\n",
       "</div>"
      ],
      "text/plain": [
       "          0         1         2         3         4         5         6\n",
       "0 -0.132810 -0.339903 -0.342518  0.216533 -0.371237  2.857938 -0.199879\n",
       "1 -0.400984 -0.590271 -0.697105 -0.485933 -0.621925 -0.349903 -0.199879\n",
       "2 -0.669158 -0.725887 -0.909858 -0.485933 -0.747268 -0.349903 -0.199879\n",
       "3 -0.937332 -0.767615 -0.909858 -0.485933 -0.747268 -0.349903 -0.199879\n",
       "4  0.939887  1.391809  0.721243  0.918999  1.383573 -0.349903  1.013933"
      ]
     },
     "execution_count": 9,
     "metadata": {},
     "output_type": "execute_result"
    }
   ],
   "source": [
    "# Get column names to standardize\n",
    "names = data[['num_exp','sum_exp','avg_exp','Promotions','age','isPromotion','count_education']]\n",
    "# Create the Scaler object\n",
    "data_std = StandardScaler().fit_transform(names)\n",
    "pd.DataFrame(data_std).head()"
   ]
  },
  {
   "cell_type": "markdown",
   "metadata": {},
   "source": [
    "#### Test train split"
   ]
  },
  {
   "cell_type": "code",
   "execution_count": 10,
   "metadata": {},
   "outputs": [],
   "source": [
    "X=data_std\n",
    "# X=dataset\n",
    "y=data['category']\n",
    "X_train, X_test, y_train, y_test = train_test_split(X, y, test_size=0.30, random_state=0)"
   ]
  },
  {
   "cell_type": "markdown",
   "metadata": {},
   "source": [
    "#### SVM"
   ]
  },
  {
   "cell_type": "code",
   "execution_count": 11,
   "metadata": {},
   "outputs": [
    {
     "ename": "NameError",
     "evalue": "name 'ypred_train' is not defined",
     "output_type": "error",
     "traceback": [
      "\u001b[1;31m---------------------------------------------------------------------------\u001b[0m",
      "\u001b[1;31mNameError\u001b[0m                                 Traceback (most recent call last)",
      "\u001b[1;32m<ipython-input-11-a309ec7ac51c>\u001b[0m in \u001b[0;36m<module>\u001b[1;34m\u001b[0m\n\u001b[0;32m      4\u001b[0m \u001b[0my_pred\u001b[0m \u001b[1;33m=\u001b[0m \u001b[0msvc\u001b[0m\u001b[1;33m.\u001b[0m\u001b[0mpredict\u001b[0m\u001b[1;33m(\u001b[0m\u001b[0mX_test\u001b[0m\u001b[1;33m)\u001b[0m\u001b[1;33m\u001b[0m\u001b[1;33m\u001b[0m\u001b[0m\n\u001b[0;32m      5\u001b[0m \u001b[0macc_svc_test\u001b[0m \u001b[1;33m=\u001b[0m \u001b[0maccuracy_score\u001b[0m\u001b[1;33m(\u001b[0m\u001b[0my_test\u001b[0m\u001b[1;33m,\u001b[0m\u001b[0my_pred\u001b[0m\u001b[1;33m)\u001b[0m\u001b[1;33m\u001b[0m\u001b[1;33m\u001b[0m\u001b[0m\n\u001b[1;32m----> 6\u001b[1;33m \u001b[0macc_svc_train\u001b[0m \u001b[1;33m=\u001b[0m \u001b[0maccuracy_score\u001b[0m\u001b[1;33m(\u001b[0m\u001b[0my_train\u001b[0m\u001b[1;33m,\u001b[0m\u001b[0mypred_train\u001b[0m\u001b[1;33m)\u001b[0m\u001b[1;33m\u001b[0m\u001b[1;33m\u001b[0m\u001b[0m\n\u001b[0m\u001b[0;32m      7\u001b[0m \u001b[0mprint\u001b[0m\u001b[1;33m(\u001b[0m\u001b[0macc_svc_test\u001b[0m\u001b[1;33m)\u001b[0m\u001b[1;33m\u001b[0m\u001b[1;33m\u001b[0m\u001b[0m\n\u001b[0;32m      8\u001b[0m \u001b[0mprint\u001b[0m\u001b[1;33m(\u001b[0m\u001b[0macc_svc_train\u001b[0m\u001b[1;33m)\u001b[0m\u001b[1;33m\u001b[0m\u001b[1;33m\u001b[0m\u001b[0m\n",
      "\u001b[1;31mNameError\u001b[0m: name 'ypred_train' is not defined"
     ]
    }
   ],
   "source": [
    "#training wih support vector classifier\n",
    "svc = SVC(probability=True)\n",
    "svc.fit(X_train, y_train)\n",
    "y_pred = svc.predict(X_test)\n",
    "acc_svc_test = accuracy_score(y_test,y_pred)\n",
    "acc_svc_train = accuracy_score(y_train,ypred_train)\n",
    "print(acc_svc_test)\n",
    "print(acc_svc_train)"
   ]
  },
  {
   "cell_type": "code",
   "execution_count": null,
   "metadata": {},
   "outputs": [],
   "source": [
    "print(\"Precision Score:\", precision_score(y_test, y_pred, average='macro'))"
   ]
  },
  {
   "cell_type": "code",
   "execution_count": null,
   "metadata": {},
   "outputs": [],
   "source": [
    "print(confusion_matrix(y_test, y_pred))"
   ]
  },
  {
   "cell_type": "markdown",
   "metadata": {},
   "source": [
    "#### Random Forest"
   ]
  },
  {
   "cell_type": "code",
   "execution_count": null,
   "metadata": {},
   "outputs": [],
   "source": [
    "model = RandomForestClassifier(n_estimators=200)\n",
    "# Fit on training data\n",
    "model.fit(X_train, y_train)\n",
    "ypred_train = model.predict(X_train)\n",
    "#predict test data\n",
    "ypred_test = model.predict(X_test)\n",
    "#calculate accuracy score - fraction of correct predictions\n",
    "score_test = accuracy_score(y_test,ypred_test)\n",
    "score_train = accuracy_score(y_train,ypred_train)\n",
    "print(score_train)\n",
    "print(score_test)\n",
    "acc_Rforest = round(model.score(X_test, y_test) * 100, 2)\n",
    "acc_Rforest"
   ]
  },
  {
   "cell_type": "code",
   "execution_count": null,
   "metadata": {},
   "outputs": [],
   "source": [
    "print(\"Precision Score:\", precision_score(y_test, ypred_test, average='macro'))"
   ]
  },
  {
   "cell_type": "code",
   "execution_count": null,
   "metadata": {},
   "outputs": [],
   "source": [
    "print(confusion_matrix(y_test, ypred_test))"
   ]
  },
  {
   "cell_type": "code",
   "execution_count": null,
   "metadata": {},
   "outputs": [],
   "source": []
  }
 ],
 "metadata": {
  "kernelspec": {
   "display_name": "Python 3",
   "language": "python",
   "name": "python3"
  },
  "language_info": {
   "codemirror_mode": {
    "name": "ipython",
    "version": 3
   },
   "file_extension": ".py",
   "mimetype": "text/x-python",
   "name": "python",
   "nbconvert_exporter": "python",
   "pygments_lexer": "ipython3",
   "version": "3.7.3"
  }
 },
 "nbformat": 4,
 "nbformat_minor": 2
}
